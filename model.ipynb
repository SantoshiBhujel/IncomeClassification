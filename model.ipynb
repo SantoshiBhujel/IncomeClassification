{
 "cells": [
  {
   "cell_type": "markdown",
   "metadata": {},
   "source": [
    "### Santoshi Bhujel, Student ID: 21293302"
   ]
  },
  {
   "cell_type": "markdown",
   "metadata": {
    "id": "MS9aEcFWFAKd"
   },
   "source": [
    "### Load the dataset"
   ]
  },
  {
   "cell_type": "code",
   "execution_count": 1,
   "metadata": {
    "colab": {
     "base_uri": "https://localhost:8080/",
     "height": 224
    },
    "id": "ShFdDn6vFAKj",
    "outputId": "cac339fc-c885-4eb2-b976-4fd4e228aae8"
   },
   "outputs": [
    {
     "name": "stdout",
     "output_type": "stream",
     "text": [
      "dataset length: 26215\n"
     ]
    },
    {
     "data": {
      "text/html": [
       "<div>\n",
       "<style scoped>\n",
       "    .dataframe tbody tr th:only-of-type {\n",
       "        vertical-align: middle;\n",
       "    }\n",
       "\n",
       "    .dataframe tbody tr th {\n",
       "        vertical-align: top;\n",
       "    }\n",
       "\n",
       "    .dataframe thead th {\n",
       "        text-align: right;\n",
       "    }\n",
       "</style>\n",
       "<table border=\"1\" class=\"dataframe\">\n",
       "  <thead>\n",
       "    <tr style=\"text-align: right;\">\n",
       "      <th></th>\n",
       "      <th>income</th>\n",
       "      <th>age</th>\n",
       "      <th>workclass</th>\n",
       "      <th>education</th>\n",
       "      <th>marital-status</th>\n",
       "      <th>occupation</th>\n",
       "      <th>relationship</th>\n",
       "      <th>race</th>\n",
       "      <th>sex</th>\n",
       "      <th>hours-per-week</th>\n",
       "    </tr>\n",
       "  </thead>\n",
       "  <tbody>\n",
       "    <tr>\n",
       "      <th>0</th>\n",
       "      <td>0</td>\n",
       "      <td>39</td>\n",
       "      <td>State-gov</td>\n",
       "      <td>Bachelors</td>\n",
       "      <td>NotMarried</td>\n",
       "      <td>Adm-clerical</td>\n",
       "      <td>Not-in-family</td>\n",
       "      <td>White</td>\n",
       "      <td>Male</td>\n",
       "      <td>40</td>\n",
       "    </tr>\n",
       "    <tr>\n",
       "      <th>1</th>\n",
       "      <td>0</td>\n",
       "      <td>50</td>\n",
       "      <td>Self-emp-not-inc</td>\n",
       "      <td>Bachelors</td>\n",
       "      <td>Married</td>\n",
       "      <td>Exec-managerial</td>\n",
       "      <td>Husband</td>\n",
       "      <td>White</td>\n",
       "      <td>Male</td>\n",
       "      <td>13</td>\n",
       "    </tr>\n",
       "    <tr>\n",
       "      <th>2</th>\n",
       "      <td>0</td>\n",
       "      <td>38</td>\n",
       "      <td>Private</td>\n",
       "      <td>HS-grad</td>\n",
       "      <td>Separated</td>\n",
       "      <td>Handlers-cleaners</td>\n",
       "      <td>Not-in-family</td>\n",
       "      <td>White</td>\n",
       "      <td>Male</td>\n",
       "      <td>40</td>\n",
       "    </tr>\n",
       "    <tr>\n",
       "      <th>3</th>\n",
       "      <td>0</td>\n",
       "      <td>53</td>\n",
       "      <td>Private</td>\n",
       "      <td>11th</td>\n",
       "      <td>Married</td>\n",
       "      <td>Handlers-cleaners</td>\n",
       "      <td>Husband</td>\n",
       "      <td>Black</td>\n",
       "      <td>Male</td>\n",
       "      <td>40</td>\n",
       "    </tr>\n",
       "    <tr>\n",
       "      <th>4</th>\n",
       "      <td>0</td>\n",
       "      <td>28</td>\n",
       "      <td>Private</td>\n",
       "      <td>Bachelors</td>\n",
       "      <td>Married</td>\n",
       "      <td>Prof-specialty</td>\n",
       "      <td>Wife</td>\n",
       "      <td>Black</td>\n",
       "      <td>Female</td>\n",
       "      <td>40</td>\n",
       "    </tr>\n",
       "  </tbody>\n",
       "</table>\n",
       "</div>"
      ],
      "text/plain": [
       "   income  age         workclass  education marital-status         occupation  \\\n",
       "0       0   39         State-gov  Bachelors     NotMarried       Adm-clerical   \n",
       "1       0   50  Self-emp-not-inc  Bachelors        Married    Exec-managerial   \n",
       "2       0   38           Private    HS-grad      Separated  Handlers-cleaners   \n",
       "3       0   53           Private       11th        Married  Handlers-cleaners   \n",
       "4       0   28           Private  Bachelors        Married     Prof-specialty   \n",
       "\n",
       "    relationship   race     sex  hours-per-week  \n",
       "0  Not-in-family  White    Male              40  \n",
       "1        Husband  White    Male              13  \n",
       "2  Not-in-family  White    Male              40  \n",
       "3        Husband  Black    Male              40  \n",
       "4           Wife  Black  Female              40  "
      ]
     },
     "execution_count": 1,
     "metadata": {},
     "output_type": "execute_result"
    }
   ],
   "source": [
    "import pandas as pd\n",
    "\n",
    "dataset = pd.read_csv(\"income.csv\")\n",
    "\n",
    "print(\"dataset length:\", len(dataset))\n",
    "dataset.head()"
   ]
  },
  {
   "cell_type": "code",
   "execution_count": 2,
   "metadata": {
    "colab": {
     "base_uri": "https://localhost:8080/"
    },
    "id": "vYKXlYHdG7Ok",
    "outputId": "111906ae-88d7-4423-e945-71aa5fb418e5"
   },
   "outputs": [
    {
     "name": "stdout",
     "output_type": "stream",
     "text": [
      "0    18374\n",
      "1     7841\n",
      "Name: income, dtype: int64 \n",
      "\n"
     ]
    }
   ],
   "source": [
    "print(dataset[\"income\"].value_counts(), \"\\n\")"
   ]
  },
  {
   "cell_type": "code",
   "execution_count": 3,
   "metadata": {
    "colab": {
     "base_uri": "https://localhost:8080/"
    },
    "id": "f2f4m-iYn93d",
    "outputId": "d2955cda-3c70-4442-dca6-117faa296684"
   },
   "outputs": [
    {
     "data": {
      "text/plain": [
       "income             int64\n",
       "age                int64\n",
       "workclass         object\n",
       "education         object\n",
       "marital-status    object\n",
       "occupation        object\n",
       "relationship      object\n",
       "race              object\n",
       "sex               object\n",
       "hours-per-week     int64\n",
       "dtype: object"
      ]
     },
     "execution_count": 3,
     "metadata": {},
     "output_type": "execute_result"
    }
   ],
   "source": [
    "dataset.dtypes"
   ]
  },
  {
   "cell_type": "code",
   "execution_count": 4,
   "metadata": {
    "colab": {
     "base_uri": "https://localhost:8080/"
    },
    "id": "a_xgCMb3oE2d",
    "outputId": "466896ea-69a8-4b87-d096-b22cf1cab88f"
   },
   "outputs": [
    {
     "data": {
      "text/plain": [
       "True"
      ]
     },
     "execution_count": 4,
     "metadata": {},
     "output_type": "execute_result"
    }
   ],
   "source": [
    "dataset.duplicated().any()"
   ]
  },
  {
   "cell_type": "code",
   "execution_count": 5,
   "metadata": {
    "colab": {
     "base_uri": "https://localhost:8080/",
     "height": 600
    },
    "id": "iroTKDD5tuF_",
    "outputId": "0b7bcb5e-02d4-46f0-8e63-d3c5e51727ef"
   },
   "outputs": [
    {
     "data": {
      "image/png": "[encoded data removed]",
      "text/plain": [
       "<Figure size 800x600 with 2 Axes>"
      ]
     },
     "metadata": {},
     "output_type": "display_data"
    }
   ],
   "source": [
    "import seaborn as sns\n",
    "import matplotlib.pyplot as plt\n",
    "corr_matrix = dataset.corr()\n",
    "plt.figure(figsize=(8, 6))\n",
    "sns.heatmap(corr_matrix, annot=True, cmap='coolwarm', vmin=-1, vmax=1)\n",
    "plt.title('Correlation Plot')\n",
    "plt.show()"
   ]
  },
  {
   "cell_type": "markdown",
   "metadata": {
    "id": "UdKsdaXRFAKl"
   },
   "source": [
    "### Preprocess the dataset"
   ]
  },
  {
   "cell_type": "code",
   "execution_count": 6,
   "metadata": {
    "colab": {
     "base_uri": "https://localhost:8080/"
    },
    "id": "hU-qht6rFALB",
    "outputId": "6fd087b2-ff26-4cbb-e22b-b31510114728"
   },
   "outputs": [
    {
     "data": {
      "text/plain": [
       "income               0\n",
       "age                  0\n",
       "workclass         1396\n",
       "education            0\n",
       "marital-status       0\n",
       "occupation        1401\n",
       "relationship         0\n",
       "race                 0\n",
       "sex                  0\n",
       "hours-per-week       0\n",
       "dtype: int64"
      ]
     },
     "execution_count": 6,
     "metadata": {},
     "output_type": "execute_result"
    }
   ],
   "source": [
    "#Check missing value\n",
    "dataset.isna().sum()"
   ]
  },
  {
   "cell_type": "code",
   "execution_count": 7,
   "metadata": {
    "colab": {
     "base_uri": "https://localhost:8080/"
    },
    "id": "BUrjQxlRFALF",
    "outputId": "2d5e3c94-b412-4dc8-ebfb-eec4b846f125"
   },
   "outputs": [
    {
     "name": "stdout",
     "output_type": "stream",
     "text": [
      "dataset length: 24814\n"
     ]
    }
   ],
   "source": [
    "#Drop the rows which has missing values\n",
    "dataset = dataset.dropna()\n",
    "print(\"dataset length:\", len(dataset))"
   ]
  },
  {
   "cell_type": "markdown",
   "metadata": {
    "id": "zLj4uFy0FALI"
   },
   "source": [
    "##### Check if there is any duplicated rows in the dataset"
   ]
  },
  {
   "cell_type": "code",
   "execution_count": 8,
   "metadata": {
    "colab": {
     "base_uri": "https://localhost:8080/"
    },
    "id": "w9hWJfFbFALI",
    "outputId": "f8cc0bfb-4bb4-4b47-9183-9571283ee3a9"
   },
   "outputs": [
    {
     "data": {
      "text/plain": [
       "True"
      ]
     },
     "execution_count": 8,
     "metadata": {},
     "output_type": "execute_result"
    }
   ],
   "source": [
    "dataset.duplicated().any()"
   ]
  },
  {
   "cell_type": "code",
   "execution_count": 9,
   "metadata": {
    "id": "N1gC5LtMFALJ"
   },
   "outputs": [],
   "source": [
    "dataset = dataset.drop_duplicates()"
   ]
  },
  {
   "cell_type": "code",
   "execution_count": 10,
   "metadata": {
    "colab": {
     "base_uri": "https://localhost:8080/"
    },
    "id": "Z1G3VZgLFALJ",
    "outputId": "3828590e-9afb-4814-e0e2-cafdc78b7c90"
   },
   "outputs": [
    {
     "name": "stdout",
     "output_type": "stream",
     "text": [
      "False\n",
      "income            0\n",
      "age               0\n",
      "workclass         0\n",
      "education         0\n",
      "marital-status    0\n",
      "occupation        0\n",
      "relationship      0\n",
      "race              0\n",
      "sex               0\n",
      "hours-per-week    0\n",
      "dtype: int64\n",
      "(21537, 10)\n"
     ]
    }
   ],
   "source": [
    "print(dataset.duplicated().any())\n",
    "print(dataset.isna().sum())\n",
    "print(dataset.shape)"
   ]
  },
  {
   "cell_type": "code",
   "execution_count": 11,
   "metadata": {
    "colab": {
     "base_uri": "https://localhost:8080/"
    },
    "id": "nHIagukPFALG",
    "outputId": "6ac63dbb-9666-4346-a7c7-3140daa0c691"
   },
   "outputs": [],
   "source": [
    "cols = ['age', 'hours-per-week']\n",
    "dataset[cols] = dataset[cols].astype(float)"
   ]
  },
  {
   "cell_type": "markdown",
   "metadata": {
    "id": "QMfJ5IGUFALK"
   },
   "source": [
    "##### check value count for the categorical variables"
   ]
  },
  {
   "cell_type": "code",
   "execution_count": 12,
   "metadata": {
    "colab": {
     "base_uri": "https://localhost:8080/"
    },
    "id": "qqxfTy-vFALK",
    "outputId": "0ff9c449-c7a3-4615-8d36-509f9457498a"
   },
   "outputs": [
    {
     "name": "stdout",
     "output_type": "stream",
     "text": [
      "Private             15108\n",
      "Self-emp-not-inc     1999\n",
      "Local-gov            1656\n",
      "State-gov            1021\n",
      "Self-emp-inc          951\n",
      "Federal-gov           793\n",
      "Without-pay             9\n",
      "Name: workclass, dtype: int64 \n",
      "\n",
      "0    15100\n",
      "1     6437\n",
      "Name: income, dtype: int64 \n",
      "\n",
      "income              int64\n",
      "age               float64\n",
      "workclass          object\n",
      "education          object\n",
      "marital-status     object\n",
      "occupation         object\n",
      "relationship       object\n",
      "race               object\n",
      "sex                object\n",
      "hours-per-week    float64\n",
      "dtype: object\n"
     ]
    }
   ],
   "source": [
    "print(dataset[\"workclass\"].value_counts(), \"\\n\")\n",
    "print(dataset[\"income\"].value_counts(), \"\\n\")\n",
    "print(dataset.dtypes)\n",
    "# print(dataset[\"education\"].value_counts(),\"\\n\")\n",
    "# print(dataset[\"marital-status\"].value_counts(),\"\\n\")\n",
    "# print(dataset[\"occupation\"].value_counts(),\"\\n\")\n",
    "# print(dataset[\"race\"].value_counts(),\"\\n\")"
   ]
  },
  {
   "cell_type": "markdown",
   "metadata": {
    "id": "Wm4FxRWBFALL"
   },
   "source": [
    "##### Deal with categorical variables"
   ]
  },
  {
   "cell_type": "code",
   "execution_count": 13,
   "metadata": {
    "colab": {
     "base_uri": "https://localhost:8080/",
     "height": 501
    },
    "id": "06iaVNJ2FALL",
    "outputId": "d2b41585-aaca-4d23-fc87-387cb9b3a568"
   },
   "outputs": [
    {
     "data": {
      "text/html": [
       "<div>\n",
       "<style scoped>\n",
       "    .dataframe tbody tr th:only-of-type {\n",
       "        vertical-align: middle;\n",
       "    }\n",
       "\n",
       "    .dataframe tbody tr th {\n",
       "        vertical-align: top;\n",
       "    }\n",
       "\n",
       "    .dataframe thead th {\n",
       "        text-align: right;\n",
       "    }\n",
       "</style>\n",
       "<table border=\"1\" class=\"dataframe\">\n",
       "  <thead>\n",
       "    <tr style=\"text-align: right;\">\n",
       "      <th></th>\n",
       "      <th>income</th>\n",
       "      <th>age</th>\n",
       "      <th>workclass</th>\n",
       "      <th>education</th>\n",
       "      <th>marital-status</th>\n",
       "      <th>occupation</th>\n",
       "      <th>race</th>\n",
       "      <th>sex</th>\n",
       "      <th>hours-per-week</th>\n",
       "    </tr>\n",
       "  </thead>\n",
       "  <tbody>\n",
       "    <tr>\n",
       "      <th>0</th>\n",
       "      <td>0</td>\n",
       "      <td>39.0</td>\n",
       "      <td>State-gov</td>\n",
       "      <td>13</td>\n",
       "      <td>NotMarried</td>\n",
       "      <td>Adm-clerical</td>\n",
       "      <td>White</td>\n",
       "      <td>0</td>\n",
       "      <td>40.0</td>\n",
       "    </tr>\n",
       "    <tr>\n",
       "      <th>1</th>\n",
       "      <td>0</td>\n",
       "      <td>50.0</td>\n",
       "      <td>Self-emp-not-inc</td>\n",
       "      <td>13</td>\n",
       "      <td>Married</td>\n",
       "      <td>Exec-managerial</td>\n",
       "      <td>White</td>\n",
       "      <td>0</td>\n",
       "      <td>13.0</td>\n",
       "    </tr>\n",
       "    <tr>\n",
       "      <th>2</th>\n",
       "      <td>0</td>\n",
       "      <td>38.0</td>\n",
       "      <td>Private</td>\n",
       "      <td>9</td>\n",
       "      <td>Separated</td>\n",
       "      <td>Handlers-cleaners</td>\n",
       "      <td>White</td>\n",
       "      <td>0</td>\n",
       "      <td>40.0</td>\n",
       "    </tr>\n",
       "    <tr>\n",
       "      <th>3</th>\n",
       "      <td>0</td>\n",
       "      <td>53.0</td>\n",
       "      <td>Private</td>\n",
       "      <td>7</td>\n",
       "      <td>Married</td>\n",
       "      <td>Handlers-cleaners</td>\n",
       "      <td>Black</td>\n",
       "      <td>0</td>\n",
       "      <td>40.0</td>\n",
       "    </tr>\n",
       "    <tr>\n",
       "      <th>4</th>\n",
       "      <td>0</td>\n",
       "      <td>28.0</td>\n",
       "      <td>Private</td>\n",
       "      <td>13</td>\n",
       "      <td>Married</td>\n",
       "      <td>Prof-specialty</td>\n",
       "      <td>Black</td>\n",
       "      <td>1</td>\n",
       "      <td>40.0</td>\n",
       "    </tr>\n",
       "  </tbody>\n",
       "</table>\n",
       "</div>"
      ],
      "text/plain": [
       "   income   age         workclass  education marital-status  \\\n",
       "0       0  39.0         State-gov         13     NotMarried   \n",
       "1       0  50.0  Self-emp-not-inc         13        Married   \n",
       "2       0  38.0           Private          9      Separated   \n",
       "3       0  53.0           Private          7        Married   \n",
       "4       0  28.0           Private         13        Married   \n",
       "\n",
       "          occupation   race  sex  hours-per-week  \n",
       "0       Adm-clerical  White    0            40.0  \n",
       "1    Exec-managerial  White    0            13.0  \n",
       "2  Handlers-cleaners  White    0            40.0  \n",
       "3  Handlers-cleaners  Black    0            40.0  \n",
       "4     Prof-specialty  Black    1            40.0  "
      ]
     },
     "execution_count": 13,
     "metadata": {},
     "output_type": "execute_result"
    }
   ],
   "source": [
    "dataset['sex'] = dataset['sex'].replace({'Male': 0, 'Female': 1})\n",
    "# note Fasting Blood Sugar is a boolean variable with True and False\n",
    "dataset['education'] = dataset['education'].replace({\n",
    "        'Preschool': 1,\n",
    "        '1st-4th': 2,\n",
    "        '5th-6th': 3,\n",
    "        '7th-8th': 4,\n",
    "        '9th': 5,\n",
    "        '10th': 6,\n",
    "        '11th': 7,\n",
    "        '12th': 8,\n",
    "        'HS-grad': 9,\n",
    "        'Some-college': 10,\n",
    "        'Assoc-voc': 11,\n",
    "        'Assoc-acdm': 12,\n",
    "        'Bachelors': 13,\n",
    "        'Masters': 14,\n",
    "        'Prof-school': 15,\n",
    "        'Doctorate': 16\n",
    "    })\n",
    "\n",
    "dataset.drop(['relationship'], axis = 1, inplace = True)\n",
    "dataset.head()"
   ]
  },
  {
   "cell_type": "code",
   "execution_count": 14,
   "metadata": {
    "colab": {
     "base_uri": "https://localhost:8080/",
     "height": 290
    },
    "id": "Ji_ceq_pFALM",
    "outputId": "4979397d-a6ba-4fbe-cd51-74207ddbc70e"
   },
   "outputs": [
    {
     "data": {
      "text/html": [
       "<div>\n",
       "<style scoped>\n",
       "    .dataframe tbody tr th:only-of-type {\n",
       "        vertical-align: middle;\n",
       "    }\n",
       "\n",
       "    .dataframe tbody tr th {\n",
       "        vertical-align: top;\n",
       "    }\n",
       "\n",
       "    .dataframe thead th {\n",
       "        text-align: right;\n",
       "    }\n",
       "</style>\n",
       "<table border=\"1\" class=\"dataframe\">\n",
       "  <thead>\n",
       "    <tr style=\"text-align: right;\">\n",
       "      <th></th>\n",
       "      <th>income</th>\n",
       "      <th>age</th>\n",
       "      <th>education</th>\n",
       "      <th>sex</th>\n",
       "      <th>hours-per-week</th>\n",
       "      <th>workclass_Federal-gov</th>\n",
       "      <th>workclass_Local-gov</th>\n",
       "      <th>workclass_Private</th>\n",
       "      <th>workclass_Self-emp-inc</th>\n",
       "      <th>workclass_Self-emp-not-inc</th>\n",
       "      <th>...</th>\n",
       "      <th>occupation_Prof-specialty</th>\n",
       "      <th>occupation_Protective-serv</th>\n",
       "      <th>occupation_Sales</th>\n",
       "      <th>occupation_Tech-support</th>\n",
       "      <th>occupation_Transport-moving</th>\n",
       "      <th>race_Amer-Indian-Eskimo</th>\n",
       "      <th>race_Asian-Pac-Islander</th>\n",
       "      <th>race_Black</th>\n",
       "      <th>race_Other</th>\n",
       "      <th>race_White</th>\n",
       "    </tr>\n",
       "  </thead>\n",
       "  <tbody>\n",
       "    <tr>\n",
       "      <th>0</th>\n",
       "      <td>0</td>\n",
       "      <td>39.0</td>\n",
       "      <td>13</td>\n",
       "      <td>0</td>\n",
       "      <td>40.0</td>\n",
       "      <td>0</td>\n",
       "      <td>0</td>\n",
       "      <td>0</td>\n",
       "      <td>0</td>\n",
       "      <td>0</td>\n",
       "      <td>...</td>\n",
       "      <td>0</td>\n",
       "      <td>0</td>\n",
       "      <td>0</td>\n",
       "      <td>0</td>\n",
       "      <td>0</td>\n",
       "      <td>0</td>\n",
       "      <td>0</td>\n",
       "      <td>0</td>\n",
       "      <td>0</td>\n",
       "      <td>1</td>\n",
       "    </tr>\n",
       "    <tr>\n",
       "      <th>1</th>\n",
       "      <td>0</td>\n",
       "      <td>50.0</td>\n",
       "      <td>13</td>\n",
       "      <td>0</td>\n",
       "      <td>13.0</td>\n",
       "      <td>0</td>\n",
       "      <td>0</td>\n",
       "      <td>0</td>\n",
       "      <td>0</td>\n",
       "      <td>1</td>\n",
       "      <td>...</td>\n",
       "      <td>0</td>\n",
       "      <td>0</td>\n",
       "      <td>0</td>\n",
       "      <td>0</td>\n",
       "      <td>0</td>\n",
       "      <td>0</td>\n",
       "      <td>0</td>\n",
       "      <td>0</td>\n",
       "      <td>0</td>\n",
       "      <td>1</td>\n",
       "    </tr>\n",
       "    <tr>\n",
       "      <th>2</th>\n",
       "      <td>0</td>\n",
       "      <td>38.0</td>\n",
       "      <td>9</td>\n",
       "      <td>0</td>\n",
       "      <td>40.0</td>\n",
       "      <td>0</td>\n",
       "      <td>0</td>\n",
       "      <td>1</td>\n",
       "      <td>0</td>\n",
       "      <td>0</td>\n",
       "      <td>...</td>\n",
       "      <td>0</td>\n",
       "      <td>0</td>\n",
       "      <td>0</td>\n",
       "      <td>0</td>\n",
       "      <td>0</td>\n",
       "      <td>0</td>\n",
       "      <td>0</td>\n",
       "      <td>0</td>\n",
       "      <td>0</td>\n",
       "      <td>1</td>\n",
       "    </tr>\n",
       "    <tr>\n",
       "      <th>3</th>\n",
       "      <td>0</td>\n",
       "      <td>53.0</td>\n",
       "      <td>7</td>\n",
       "      <td>0</td>\n",
       "      <td>40.0</td>\n",
       "      <td>0</td>\n",
       "      <td>0</td>\n",
       "      <td>1</td>\n",
       "      <td>0</td>\n",
       "      <td>0</td>\n",
       "      <td>...</td>\n",
       "      <td>0</td>\n",
       "      <td>0</td>\n",
       "      <td>0</td>\n",
       "      <td>0</td>\n",
       "      <td>0</td>\n",
       "      <td>0</td>\n",
       "      <td>0</td>\n",
       "      <td>1</td>\n",
       "      <td>0</td>\n",
       "      <td>0</td>\n",
       "    </tr>\n",
       "    <tr>\n",
       "      <th>4</th>\n",
       "      <td>0</td>\n",
       "      <td>28.0</td>\n",
       "      <td>13</td>\n",
       "      <td>1</td>\n",
       "      <td>40.0</td>\n",
       "      <td>0</td>\n",
       "      <td>0</td>\n",
       "      <td>1</td>\n",
       "      <td>0</td>\n",
       "      <td>0</td>\n",
       "      <td>...</td>\n",
       "      <td>1</td>\n",
       "      <td>0</td>\n",
       "      <td>0</td>\n",
       "      <td>0</td>\n",
       "      <td>0</td>\n",
       "      <td>0</td>\n",
       "      <td>0</td>\n",
       "      <td>1</td>\n",
       "      <td>0</td>\n",
       "      <td>0</td>\n",
       "    </tr>\n",
       "  </tbody>\n",
       "</table>\n",
       "<p>5 rows × 35 columns</p>\n",
       "</div>"
      ],
      "text/plain": [
       "   income   age  education  sex  hours-per-week  workclass_Federal-gov  \\\n",
       "0       0  39.0         13    0            40.0                      0   \n",
       "1       0  50.0         13    0            13.0                      0   \n",
       "2       0  38.0          9    0            40.0                      0   \n",
       "3       0  53.0          7    0            40.0                      0   \n",
       "4       0  28.0         13    1            40.0                      0   \n",
       "\n",
       "   workclass_Local-gov  workclass_Private  workclass_Self-emp-inc  \\\n",
       "0                    0                  0                       0   \n",
       "1                    0                  0                       0   \n",
       "2                    0                  1                       0   \n",
       "3                    0                  1                       0   \n",
       "4                    0                  1                       0   \n",
       "\n",
       "   workclass_Self-emp-not-inc  ...  occupation_Prof-specialty  \\\n",
       "0                           0  ...                          0   \n",
       "1                           1  ...                          0   \n",
       "2                           0  ...                          0   \n",
       "3                           0  ...                          0   \n",
       "4                           0  ...                          1   \n",
       "\n",
       "   occupation_Protective-serv  occupation_Sales  occupation_Tech-support  \\\n",
       "0                           0                 0                        0   \n",
       "1                           0                 0                        0   \n",
       "2                           0                 0                        0   \n",
       "3                           0                 0                        0   \n",
       "4                           0                 0                        0   \n",
       "\n",
       "   occupation_Transport-moving  race_Amer-Indian-Eskimo  \\\n",
       "0                            0                        0   \n",
       "1                            0                        0   \n",
       "2                            0                        0   \n",
       "3                            0                        0   \n",
       "4                            0                        0   \n",
       "\n",
       "   race_Asian-Pac-Islander  race_Black  race_Other  race_White  \n",
       "0                        0           0           0           1  \n",
       "1                        0           0           0           1  \n",
       "2                        0           0           0           1  \n",
       "3                        0           1           0           0  \n",
       "4                        0           1           0           0  \n",
       "\n",
       "[5 rows x 35 columns]"
      ]
     },
     "execution_count": 14,
     "metadata": {},
     "output_type": "execute_result"
    }
   ],
   "source": [
    "dataset = pd.get_dummies(dataset, columns=['workclass','marital-status', 'occupation', 'race'])\n",
    "dataset.head()\n"
   ]
  },
  {
   "cell_type": "markdown",
   "metadata": {
    "id": "miWzePO4FALM"
   },
   "source": [
    "##### Check dataset shape"
   ]
  },
  {
   "cell_type": "code",
   "execution_count": 15,
   "metadata": {
    "id": "SXzU57NmuqMW"
   },
   "outputs": [],
   "source": [
    "# corr_matrix = dataset.corr()\n",
    "# plt.figure(figsize=(8, 6))\n",
    "# sns.heatmap(corr_matrix, annot=True, cmap='coolwarm', vmin=-1, vmax=1)\n",
    "# plt.title('Correlation Plot')\n",
    "# plt.show()"
   ]
  },
  {
   "cell_type": "code",
   "execution_count": 16,
   "metadata": {
    "colab": {
     "base_uri": "https://localhost:8080/"
    },
    "id": "XCrzz6wNMdbK",
    "outputId": "89c51c73-0a9d-465b-f53b-2922ed681264"
   },
   "outputs": [
    {
     "name": "stdout",
     "output_type": "stream",
     "text": [
      "income                            int64\n",
      "age                             float64\n",
      "education                         int64\n",
      "sex                               int64\n",
      "hours-per-week                  float64\n",
      "workclass_Federal-gov             uint8\n",
      "workclass_Local-gov               uint8\n",
      "workclass_Private                 uint8\n",
      "workclass_Self-emp-inc            uint8\n",
      "workclass_Self-emp-not-inc        uint8\n",
      "workclass_State-gov               uint8\n",
      "workclass_Without-pay             uint8\n",
      "marital-status_Married            uint8\n",
      "marital-status_NotMarried         uint8\n",
      "marital-status_Separated          uint8\n",
      "marital-status_Widowed            uint8\n",
      "occupation_Adm-clerical           uint8\n",
      "occupation_Armed-Forces           uint8\n",
      "occupation_Craft-repair           uint8\n",
      "occupation_Exec-managerial        uint8\n",
      "occupation_Farming-fishing        uint8\n",
      "occupation_Handlers-cleaners      uint8\n",
      "occupation_Machine-op-inspct      uint8\n",
      "occupation_Other-service          uint8\n",
      "occupation_Priv-house-serv        uint8\n",
      "occupation_Prof-specialty         uint8\n",
      "occupation_Protective-serv        uint8\n",
      "occupation_Sales                  uint8\n",
      "occupation_Tech-support           uint8\n",
      "occupation_Transport-moving       uint8\n",
      "race_Amer-Indian-Eskimo           uint8\n",
      "race_Asian-Pac-Islander           uint8\n",
      "race_Black                        uint8\n",
      "race_Other                        uint8\n",
      "race_White                        uint8\n",
      "dtype: object\n",
      "(21537, 35)\n"
     ]
    }
   ],
   "source": [
    "print(dataset.dtypes)\n",
    "print(dataset.shape)"
   ]
  },
  {
   "cell_type": "markdown",
   "metadata": {
    "id": "BjRDUNaqFALN"
   },
   "source": [
    "##### Define the input variables and the target variable\n"
   ]
  },
  {
   "cell_type": "code",
   "execution_count": 17,
   "metadata": {
    "id": "ITOkwoTYFALN"
   },
   "outputs": [],
   "source": [
    "array = dataset.values\n",
    "X = array[:,1:]\n",
    "y = array[:,0]"
   ]
  },
  {
   "cell_type": "markdown",
   "metadata": {
    "id": "3lC9-ogZFALN"
   },
   "source": [
    "### Split the dataset and normalize data"
   ]
  },
  {
   "cell_type": "markdown",
   "metadata": {
    "id": "WXbQ6cGHFALO"
   },
   "source": [
    "##### Split the training and testing dataset"
   ]
  },
  {
   "cell_type": "code",
   "execution_count": 18,
   "metadata": {
    "colab": {
     "base_uri": "https://localhost:8080/"
    },
    "id": "Y3rn3bOBFALO",
    "outputId": "54b11ba6-0b75-49d1-90f9-5750ddde4da0"
   },
   "outputs": [
    {
     "name": "stdout",
     "output_type": "stream",
     "text": [
      "X_train shape: (19383, 34)\n",
      "X_test shape: (2154, 34)\n",
      "y_train shape: (19383,)\n",
      "y_test shape: (2154,)\n"
     ]
    }
   ],
   "source": [
    "from sklearn.model_selection import train_test_split\n",
    "\n",
    "X_train, X_test, y_train, y_test = train_test_split(X, y, test_size=0.1, random_state=1)\n",
    "\n",
    "print(\"X_train shape:\", X_train.shape)\n",
    "print(\"X_test shape:\", X_test.shape)\n",
    "print(\"y_train shape:\", y_train.shape)\n",
    "print(\"y_test shape:\", y_test.shape)\n"
   ]
  },
  {
   "cell_type": "markdown",
   "metadata": {
    "id": "Xh5FFk1uFALO"
   },
   "source": [
    "##### Apply normalization on both train and testing dataset"
   ]
  },
  {
   "cell_type": "code",
   "execution_count": 19,
   "metadata": {
    "id": "bqtpPldbFALO"
   },
   "outputs": [],
   "source": [
    "from sklearn.preprocessing import MinMaxScaler\n",
    "\n",
    "# fit scaler on training data\n",
    "norm = MinMaxScaler().fit(X_train)\n",
    "\n",
    "# transform training data\n",
    "X_train_norm = norm.transform(X_train)\n",
    "\n",
    "# transform testing data\n",
    "X_test_norm = norm.transform(X_test)\n"
   ]
  },
  {
   "cell_type": "markdown",
   "metadata": {
    "id": "8HtFh3kgFALO"
   },
   "source": [
    "### Logistic regression and SVM"
   ]
  },
  {
   "cell_type": "markdown",
   "metadata": {
    "id": "PcBVYjsiDa6K"
   },
   "source": [
    "LR"
   ]
  },
  {
   "cell_type": "code",
   "execution_count": 21,
   "metadata": {
    "colab": {
     "base_uri": "https://localhost:8080/"
    },
    "id": "VgoD06QtFALP",
    "outputId": "4315cd55-f37f-4b24-d0e0-7da1d5a016c4"
   },
   "outputs": [
    {
     "name": "stdout",
     "output_type": "stream",
     "text": [
      "[[1287  200]\n",
      " [ 279  388]]\n",
      "Testing Accuracy of LR: 0.7776230269266481\n",
      "Testing Precision of LR: 0.6598639455782312\n"
     ]
    },
    {
     "name": "stderr",
     "output_type": "stream",
     "text": [
      "/usr/local/lib/python3.10/dist-packages/sklearn/linear_model/_logistic.py:458: ConvergenceWarning: lbfgs failed to converge (status=1):\n",
      "STOP: TOTAL NO. of ITERATIONS REACHED LIMIT.\n",
      "\n",
      "Increase the number of iterations (max_iter) or scale the data as shown in:\n",
      "    https://scikit-learn.org/stable/modules/preprocessing.html\n",
      "Please also refer to the documentation for alternative solver options:\n",
      "    https://scikit-learn.org/stable/modules/linear_model.html#logistic-regression\n",
      "  n_iter_i = _check_optimize_result(\n"
     ]
    }
   ],
   "source": [
    "from sklearn.linear_model import LogisticRegression\n",
    "from sklearn.svm import SVC\n",
    "from sklearn.metrics import precision_score\n",
    "from sklearn.metrics import confusion_matrix\n",
    "\n",
    "# logistic regression model\n",
    "log_model = LogisticRegression()\n",
    "log_model.fit(X_train_norm, y_train)\n",
    "test_score = log_model.score(X_test_norm, y_test)\n",
    "lr_y_pred = log_model.predict(X_test_norm)\n",
    "lr_model_precision = precision_score(y_test, lr_y_pred)\n",
    "print(confusion_matrix(y_test, lr_y_pred))\n",
    "print(\"Testing Accuracy of LR:\", test_score)\n",
    "print(\"Testing Precision of LR:\", lr_model_precision)"
   ]
  },
  {
   "cell_type": "markdown",
   "metadata": {
    "id": "BLqW8xYVDdNq"
   },
   "source": [
    "SVM"
   ]
  },
  {
   "cell_type": "code",
   "execution_count": 22,
   "metadata": {
    "colab": {
     "base_uri": "https://localhost:8080/"
    },
    "id": "9uhvirpPDR6V",
    "outputId": "fd281273-ad0d-4618-d0fd-51c43f4ad84b"
   },
   "outputs": [
    {
     "name": "stdout",
     "output_type": "stream",
     "text": [
      "Testing Accuracy of SVC: 0.7924791086350975\n",
      "Testing Precision of SVC: 0.6936619718309859\n",
      "[[1313  174]\n",
      " [ 273  394]]\n"
     ]
    }
   ],
   "source": [
    "svm_model = SVC()\n",
    "svm_model.fit(X_train_norm, y_train)\n",
    "test_score = svm_model.score(X_test_norm, y_test)\n",
    "svm_y_pred = svm_model.predict(X_test_norm)\n",
    "svm_model_precision = precision_score(y_test, svm_y_pred)\n",
    "print(\"Testing Accuracy of SVC:\", test_score)\n",
    "print(\"Testing Precision of SVC:\", svm_model_precision)\n",
    "print(confusion_matrix(y_test, svm_y_pred))"
   ]
  },
  {
   "cell_type": "markdown",
   "metadata": {
    "id": "eXYMJMd1FALP"
   },
   "source": [
    "### Train a model with 10-fold cross valiation"
   ]
  },
  {
   "cell_type": "markdown",
   "metadata": {
    "id": "hrbU75ZgFALP"
   },
   "source": [
    "##### 10 fold cross validation"
   ]
  },
  {
   "cell_type": "code",
   "execution_count": 23,
   "metadata": {
    "id": "S9sivn9WFALP"
   },
   "outputs": [],
   "source": [
    "from sklearn.model_selection import KFold\n",
    "\n",
    "kfold = KFold(n_splits=10, shuffle=True, random_state=2)"
   ]
  },
  {
   "cell_type": "markdown",
   "metadata": {
    "id": "_AmJP6K-FALP"
   },
   "source": [
    "##### Run the 10-fold cross validation"
   ]
  },
  {
   "cell_type": "code",
   "execution_count": 24,
   "metadata": {
    "colab": {
     "base_uri": "https://localhost:8080/"
    },
    "id": "BxtDJhwqFALQ",
    "outputId": "9c7a67c6-7911-4d07-e0d3-75d9b0b084b0"
   },
   "outputs": [
    {
     "name": "stderr",
     "output_type": "stream",
     "text": [
      "/usr/local/lib/python3.10/dist-packages/sklearn/linear_model/_logistic.py:458: ConvergenceWarning: lbfgs failed to converge (status=1):\n",
      "STOP: TOTAL NO. of ITERATIONS REACHED LIMIT.\n",
      "\n",
      "Increase the number of iterations (max_iter) or scale the data as shown in:\n",
      "    https://scikit-learn.org/stable/modules/preprocessing.html\n",
      "Please also refer to the documentation for alternative solver options:\n",
      "    https://scikit-learn.org/stable/modules/linear_model.html#logistic-regression\n",
      "  n_iter_i = _check_optimize_result(\n",
      "/usr/local/lib/python3.10/dist-packages/sklearn/linear_model/_logistic.py:458: ConvergenceWarning: lbfgs failed to converge (status=1):\n",
      "STOP: TOTAL NO. of ITERATIONS REACHED LIMIT.\n",
      "\n",
      "Increase the number of iterations (max_iter) or scale the data as shown in:\n",
      "    https://scikit-learn.org/stable/modules/preprocessing.html\n",
      "Please also refer to the documentation for alternative solver options:\n",
      "    https://scikit-learn.org/stable/modules/linear_model.html#logistic-regression\n",
      "  n_iter_i = _check_optimize_result(\n",
      "/usr/local/lib/python3.10/dist-packages/sklearn/linear_model/_logistic.py:458: ConvergenceWarning: lbfgs failed to converge (status=1):\n",
      "STOP: TOTAL NO. of ITERATIONS REACHED LIMIT.\n",
      "\n",
      "Increase the number of iterations (max_iter) or scale the data as shown in:\n",
      "    https://scikit-learn.org/stable/modules/preprocessing.html\n",
      "Please also refer to the documentation for alternative solver options:\n",
      "    https://scikit-learn.org/stable/modules/linear_model.html#logistic-regression\n",
      "  n_iter_i = _check_optimize_result(\n",
      "/usr/local/lib/python3.10/dist-packages/sklearn/linear_model/_logistic.py:458: ConvergenceWarning: lbfgs failed to converge (status=1):\n",
      "STOP: TOTAL NO. of ITERATIONS REACHED LIMIT.\n",
      "\n",
      "Increase the number of iterations (max_iter) or scale the data as shown in:\n",
      "    https://scikit-learn.org/stable/modules/preprocessing.html\n",
      "Please also refer to the documentation for alternative solver options:\n",
      "    https://scikit-learn.org/stable/modules/linear_model.html#logistic-regression\n",
      "  n_iter_i = _check_optimize_result(\n",
      "/usr/local/lib/python3.10/dist-packages/sklearn/linear_model/_logistic.py:458: ConvergenceWarning: lbfgs failed to converge (status=1):\n",
      "STOP: TOTAL NO. of ITERATIONS REACHED LIMIT.\n",
      "\n",
      "Increase the number of iterations (max_iter) or scale the data as shown in:\n",
      "    https://scikit-learn.org/stable/modules/preprocessing.html\n",
      "Please also refer to the documentation for alternative solver options:\n",
      "    https://scikit-learn.org/stable/modules/linear_model.html#logistic-regression\n",
      "  n_iter_i = _check_optimize_result(\n",
      "/usr/local/lib/python3.10/dist-packages/sklearn/linear_model/_logistic.py:458: ConvergenceWarning: lbfgs failed to converge (status=1):\n",
      "STOP: TOTAL NO. of ITERATIONS REACHED LIMIT.\n",
      "\n",
      "Increase the number of iterations (max_iter) or scale the data as shown in:\n",
      "    https://scikit-learn.org/stable/modules/preprocessing.html\n",
      "Please also refer to the documentation for alternative solver options:\n",
      "    https://scikit-learn.org/stable/modules/linear_model.html#logistic-regression\n",
      "  n_iter_i = _check_optimize_result(\n",
      "/usr/local/lib/python3.10/dist-packages/sklearn/linear_model/_logistic.py:458: ConvergenceWarning: lbfgs failed to converge (status=1):\n",
      "STOP: TOTAL NO. of ITERATIONS REACHED LIMIT.\n",
      "\n",
      "Increase the number of iterations (max_iter) or scale the data as shown in:\n",
      "    https://scikit-learn.org/stable/modules/preprocessing.html\n",
      "Please also refer to the documentation for alternative solver options:\n",
      "    https://scikit-learn.org/stable/modules/linear_model.html#logistic-regression\n",
      "  n_iter_i = _check_optimize_result(\n",
      "/usr/local/lib/python3.10/dist-packages/sklearn/linear_model/_logistic.py:458: ConvergenceWarning: lbfgs failed to converge (status=1):\n",
      "STOP: TOTAL NO. of ITERATIONS REACHED LIMIT.\n",
      "\n",
      "Increase the number of iterations (max_iter) or scale the data as shown in:\n",
      "    https://scikit-learn.org/stable/modules/preprocessing.html\n",
      "Please also refer to the documentation for alternative solver options:\n",
      "    https://scikit-learn.org/stable/modules/linear_model.html#logistic-regression\n",
      "  n_iter_i = _check_optimize_result(\n",
      "/usr/local/lib/python3.10/dist-packages/sklearn/linear_model/_logistic.py:458: ConvergenceWarning: lbfgs failed to converge (status=1):\n",
      "STOP: TOTAL NO. of ITERATIONS REACHED LIMIT.\n",
      "\n",
      "Increase the number of iterations (max_iter) or scale the data as shown in:\n",
      "    https://scikit-learn.org/stable/modules/preprocessing.html\n",
      "Please also refer to the documentation for alternative solver options:\n",
      "    https://scikit-learn.org/stable/modules/linear_model.html#logistic-regression\n",
      "  n_iter_i = _check_optimize_result(\n",
      "/usr/local/lib/python3.10/dist-packages/sklearn/linear_model/_logistic.py:458: ConvergenceWarning: lbfgs failed to converge (status=1):\n",
      "STOP: TOTAL NO. of ITERATIONS REACHED LIMIT.\n",
      "\n",
      "Increase the number of iterations (max_iter) or scale the data as shown in:\n",
      "    https://scikit-learn.org/stable/modules/preprocessing.html\n",
      "Please also refer to the documentation for alternative solver options:\n",
      "    https://scikit-learn.org/stable/modules/linear_model.html#logistic-regression\n",
      "  n_iter_i = _check_optimize_result(\n"
     ]
    },
    {
     "name": "stdout",
     "output_type": "stream",
     "text": [
      "Average Accuracy of LR: 0.8065303947913955\n",
      "Average Accuracy of SVM: 0.8008038784580904\n"
     ]
    }
   ],
   "source": [
    "from sklearn.model_selection import cross_val_score\n",
    "\n",
    "lr_results = cross_val_score(log_model, X_train_norm, y_train, cv=kfold)\n",
    "print(\"Average Accuracy of LR:\",lr_results.mean())\n",
    "\n",
    "svm_results = cross_val_score(svm_model, X_train_norm, y_train, cv=kfold)\n",
    "print(\"Average Accuracy of SVM:\",svm_results.mean())"
   ]
  },
  {
   "cell_type": "code",
   "execution_count": 25,
   "metadata": {
    "colab": {
     "base_uri": "https://localhost:8080/"
    },
    "id": "AWfNxVkVFALQ",
    "outputId": "0fd3c042-6115-4532-a514-4f67da8e2d90"
   },
   "outputs": [
    {
     "name": "stdout",
     "output_type": "stream",
     "text": [
      "[0.81382156 0.82310469 0.80402269 0.78998968 0.79308566 0.80701754\n",
      " 0.81785346 0.80650155 0.79618163 0.81372549]\n",
      "[0.80711707 0.81021145 0.80350696 0.7868937  0.78844169 0.81372549\n",
      " 0.80804954 0.79618163 0.79102167 0.80288958]\n"
     ]
    }
   ],
   "source": [
    "print(lr_results)\n",
    "print(svm_results)"
   ]
  },
  {
   "cell_type": "markdown",
   "metadata": {
    "id": "yBvJNsCdFALQ"
   },
   "source": [
    "### Optimize the Logistic Regression models with cross validation"
   ]
  },
  {
   "cell_type": "code",
   "execution_count": 26,
   "metadata": {
    "colab": {
     "base_uri": "https://localhost:8080/"
    },
    "id": "VLB9MLF-FALQ",
    "outputId": "c3fc1c0f-05c9-4bca-ca2f-014fc198d745"
   },
   "outputs": [
    {
     "name": "stderr",
     "output_type": "stream",
     "text": [
      "/usr/local/lib/python3.10/dist-packages/sklearn/linear_model/_sag.py:350: ConvergenceWarning: The max_iter was reached which means the coef_ did not converge\n",
      "  warnings.warn(\n",
      "/usr/local/lib/python3.10/dist-packages/sklearn/linear_model/_sag.py:350: ConvergenceWarning: The max_iter was reached which means the coef_ did not converge\n",
      "  warnings.warn(\n",
      "/usr/local/lib/python3.10/dist-packages/sklearn/linear_model/_sag.py:350: ConvergenceWarning: The max_iter was reached which means the coef_ did not converge\n",
      "  warnings.warn(\n",
      "/usr/local/lib/python3.10/dist-packages/sklearn/linear_model/_sag.py:350: ConvergenceWarning: The max_iter was reached which means the coef_ did not converge\n",
      "  warnings.warn(\n",
      "/usr/local/lib/python3.10/dist-packages/sklearn/linear_model/_sag.py:350: ConvergenceWarning: The max_iter was reached which means the coef_ did not converge\n",
      "  warnings.warn(\n",
      "/usr/local/lib/python3.10/dist-packages/sklearn/linear_model/_sag.py:350: ConvergenceWarning: The max_iter was reached which means the coef_ did not converge\n",
      "  warnings.warn(\n",
      "/usr/local/lib/python3.10/dist-packages/sklearn/linear_model/_sag.py:350: ConvergenceWarning: The max_iter was reached which means the coef_ did not converge\n",
      "  warnings.warn(\n",
      "/usr/local/lib/python3.10/dist-packages/sklearn/linear_model/_sag.py:350: ConvergenceWarning: The max_iter was reached which means the coef_ did not converge\n",
      "  warnings.warn(\n",
      "/usr/local/lib/python3.10/dist-packages/sklearn/linear_model/_sag.py:350: ConvergenceWarning: The max_iter was reached which means the coef_ did not converge\n",
      "  warnings.warn(\n",
      "/usr/local/lib/python3.10/dist-packages/sklearn/linear_model/_sag.py:350: ConvergenceWarning: The max_iter was reached which means the coef_ did not converge\n",
      "  warnings.warn(\n",
      "/usr/local/lib/python3.10/dist-packages/sklearn/linear_model/_sag.py:350: ConvergenceWarning: The max_iter was reached which means the coef_ did not converge\n",
      "  warnings.warn(\n",
      "/usr/local/lib/python3.10/dist-packages/sklearn/linear_model/_sag.py:350: ConvergenceWarning: The max_iter was reached which means the coef_ did not converge\n",
      "  warnings.warn(\n",
      "/usr/local/lib/python3.10/dist-packages/sklearn/linear_model/_sag.py:350: ConvergenceWarning: The max_iter was reached which means the coef_ did not converge\n",
      "  warnings.warn(\n"
     ]
    },
    {
     "name": "stdout",
     "output_type": "stream",
     "text": [
      "GridSearchCV Best Score: 0.8068399923146155\n"
     ]
    },
    {
     "name": "stderr",
     "output_type": "stream",
     "text": [
      "/usr/local/lib/python3.10/dist-packages/sklearn/linear_model/_sag.py:350: ConvergenceWarning: The max_iter was reached which means the coef_ did not converge\n",
      "  warnings.warn(\n"
     ]
    }
   ],
   "source": [
    "# fine tune parameters for lr model\n",
    "from sklearn.model_selection import GridSearchCV\n",
    "\n",
    "grid_params_lr = {\n",
    "    'penalty': ['l1', 'l2'],\n",
    "    'C': [0.001, 0.01, 0.1, 1.0, 10.0],\n",
    "    'solver': ['liblinear','saga'],\n",
    "    'class_weight': [None, 'balanced']\n",
    "}\n",
    "\n",
    "lr = LogisticRegression(max_iter=250)\n",
    "gs_lr_result = GridSearchCV(lr, grid_params_lr, cv=kfold).fit(X_train_norm, y_train)\n",
    "print(\"GridSearchCV Best Score:\", gs_lr_result.best_score_)"
   ]
  },
  {
   "cell_type": "markdown",
   "metadata": {
    "id": "wnDFdHxBFALR"
   },
   "source": [
    "### Evaluate the trained Logistic Regression model using testing dataset"
   ]
  },
  {
   "cell_type": "code",
   "execution_count": 27,
   "metadata": {
    "colab": {
     "base_uri": "https://localhost:8080/"
    },
    "id": "HKpvIYcXFALS",
    "outputId": "b53aab11-ac07-49ae-fa40-942cd4627b21"
   },
   "outputs": [
    {
     "name": "stdout",
     "output_type": "stream",
     "text": [
      "Accuracy in testing: 0.7776230269266481\n"
     ]
    }
   ],
   "source": [
    "test_accuracy = gs_lr_result.best_estimator_.score(X_test_norm, y_test)\n",
    "print(\"Accuracy in testing:\", test_accuracy)"
   ]
  },
  {
   "cell_type": "markdown",
   "metadata": {
    "id": "_kqfAbXxFALS"
   },
   "source": [
    "check the parameter setting for the best selected model"
   ]
  },
  {
   "cell_type": "code",
   "execution_count": 28,
   "metadata": {
    "colab": {
     "base_uri": "https://localhost:8080/"
    },
    "id": "OYbl6x6zFALT",
    "outputId": "2a4f11eb-d08e-4bf4-9e58-ff3660deda87"
   },
   "outputs": [
    {
     "data": {
      "text/plain": [
       "{'C': 1.0, 'class_weight': None, 'penalty': 'l2', 'solver': 'liblinear'}"
      ]
     },
     "execution_count": 28,
     "metadata": {},
     "output_type": "execute_result"
    }
   ],
   "source": [
    "gs_lr_result.best_params_"
   ]
  },
  {
   "cell_type": "markdown",
   "metadata": {
    "id": "BIm7aC4OFALU"
   },
   "source": [
    "### Optimize the SVM model"
   ]
  },
  {
   "cell_type": "code",
   "execution_count": 29,
   "metadata": {
    "colab": {
     "base_uri": "https://localhost:8080/"
    },
    "id": "9PRi584QFALU",
    "outputId": "0e4618c0-8c5d-417d-a587-b9ef3e844616"
   },
   "outputs": [
    {
     "name": "stdout",
     "output_type": "stream",
     "text": [
      "0.8083362206748556\n"
     ]
    }
   ],
   "source": [
    "from sklearn.model_selection import GridSearchCV\n",
    "\n",
    "grid_params_svc = {\n",
    "    'kernel': ['linear', 'poly'],\n",
    "    'C': [0.01, 0.1, 1, 5, 10],\n",
    "    'degree': [3,5,8],\n",
    "    'gamma': ['auto','scale'],\n",
    "    'class_weight' : [None, 'balanced']\n",
    "}\n",
    "\n",
    "svc = SVC()\n",
    "gs_svc_result = GridSearchCV(svc, grid_params_svc, cv=kfold).fit(X_train_norm, y_train)\n",
    "print(gs_svc_result.best_score_)"
   ]
  },
  {
   "cell_type": "markdown",
   "metadata": {
    "id": "CrvVByPYFALU"
   },
   "source": [
    "Evaluate the trained svm model using testing dataset"
   ]
  },
  {
   "cell_type": "code",
   "execution_count": 30,
   "metadata": {
    "colab": {
     "base_uri": "https://localhost:8080/"
    },
    "id": "eWLEMBHRFALV",
    "outputId": "e5446288-33d3-4a12-b992-0e5b90cc2bac"
   },
   "outputs": [
    {
     "name": "stdout",
     "output_type": "stream",
     "text": [
      "Accuracy in testing: 0.7952646239554317\n"
     ]
    }
   ],
   "source": [
    "test_accuracy = gs_svc_result.best_estimator_.score(X_test_norm, y_test)\n",
    "print(\"Accuracy in testing:\", test_accuracy)"
   ]
  },
  {
   "cell_type": "markdown",
   "metadata": {
    "id": "GVLWxpHpFALV"
   },
   "source": [
    "check the parameter setting for the best selected model"
   ]
  },
  {
   "cell_type": "code",
   "execution_count": 31,
   "metadata": {
    "colab": {
     "base_uri": "https://localhost:8080/"
    },
    "id": "ZzOjJDEkFALV",
    "outputId": "5f93bca1-25e6-49a6-ccd4-dd6e9c6d423b"
   },
   "outputs": [
    {
     "data": {
      "text/plain": [
       "{'C': 5, 'class_weight': None, 'degree': 5, 'gamma': 'scale', 'kernel': 'poly'}"
      ]
     },
     "execution_count": 31,
     "metadata": {},
     "output_type": "execute_result"
    }
   ],
   "source": [
    "gs_svc_result.best_params_"
   ]
  },
  {
   "cell_type": "markdown",
   "metadata": {
    "id": "eM4vF340aDmY"
   },
   "source": [
    "### K-means Model\n",
    "\n"
   ]
  },
  {
   "cell_type": "code",
   "execution_count": 20,
   "metadata": {
    "colab": {
     "base_uri": "https://localhost:8080/"
    },
    "id": "NQhISI3HFALV",
    "outputId": "406cfa49-5e96-4547-801c-59dd8d9113f0"
   },
   "outputs": [
    {
     "name": "stderr",
     "output_type": "stream",
     "text": [
      "/opt/anaconda3/lib/python3.9/site-packages/sklearn/cluster/_kmeans.py:870: FutureWarning: The default value of `n_init` will change from 10 to 'auto' in 1.4. Set the value of `n_init` explicitly to suppress the warning\n",
      "  warnings.warn(\n"
     ]
    }
   ],
   "source": [
    "from sklearn.cluster import KMeans\n",
    "norm = MinMaxScaler().fit(X_train)\n",
    "X = norm.transform(X_train)\n",
    "\n",
    "kmeans = KMeans(n_clusters=2, random_state=0).fit(X)"
   ]
  },
  {
   "cell_type": "code",
   "execution_count": 21,
   "metadata": {
    "colab": {
     "base_uri": "https://localhost:8080/"
    },
    "id": "3tkGx7qyaZGZ",
    "outputId": "d333a3c0-895c-4370-c195-6e3da87b6b50"
   },
   "outputs": [
    {
     "data": {
      "text/plain": [
       "{0: 9270, 1: 10113}"
      ]
     },
     "execution_count": 21,
     "metadata": {},
     "output_type": "execute_result"
    }
   ],
   "source": [
    "import numpy as np\n",
    "\n",
    "kmeans_labels = kmeans.labels_\n",
    "unique_labels, unique_counts = np.unique(kmeans_labels, return_counts=True)\n",
    "dict(zip(unique_labels, unique_counts))"
   ]
  },
  {
   "cell_type": "code",
   "execution_count": 37,
   "metadata": {
    "colab": {
     "base_uri": "https://localhost:8080/",
     "height": 804
    },
    "id": "PFu4-9lXgcMd",
    "outputId": "07537c94-b00c-42c7-9971-0c2ed4bcabfb"
   },
   "outputs": [
    {
     "name": "stderr",
     "output_type": "stream",
     "text": [
      "/opt/anaconda3/lib/python3.9/site-packages/sklearn/cluster/_kmeans.py:870: FutureWarning: The default value of `n_init` will change from 10 to 'auto' in 1.4. Set the value of `n_init` explicitly to suppress the warning\n",
      "  warnings.warn(\n",
      "/opt/anaconda3/lib/python3.9/site-packages/sklearn/cluster/_kmeans.py:870: FutureWarning: The default value of `n_init` will change from 10 to 'auto' in 1.4. Set the value of `n_init` explicitly to suppress the warning\n",
      "  warnings.warn(\n",
      "/opt/anaconda3/lib/python3.9/site-packages/sklearn/cluster/_kmeans.py:870: FutureWarning: The default value of `n_init` will change from 10 to 'auto' in 1.4. Set the value of `n_init` explicitly to suppress the warning\n",
      "  warnings.warn(\n",
      "/opt/anaconda3/lib/python3.9/site-packages/sklearn/cluster/_kmeans.py:870: FutureWarning: The default value of `n_init` will change from 10 to 'auto' in 1.4. Set the value of `n_init` explicitly to suppress the warning\n",
      "  warnings.warn(\n",
      "/opt/anaconda3/lib/python3.9/site-packages/sklearn/cluster/_kmeans.py:870: FutureWarning: The default value of `n_init` will change from 10 to 'auto' in 1.4. Set the value of `n_init` explicitly to suppress the warning\n",
      "  warnings.warn(\n",
      "/opt/anaconda3/lib/python3.9/site-packages/sklearn/cluster/_kmeans.py:870: FutureWarning: The default value of `n_init` will change from 10 to 'auto' in 1.4. Set the value of `n_init` explicitly to suppress the warning\n",
      "  warnings.warn(\n",
      "/opt/anaconda3/lib/python3.9/site-packages/sklearn/cluster/_kmeans.py:870: FutureWarning: The default value of `n_init` will change from 10 to 'auto' in 1.4. Set the value of `n_init` explicitly to suppress the warning\n",
      "  warnings.warn(\n",
      "/opt/anaconda3/lib/python3.9/site-packages/sklearn/cluster/_kmeans.py:870: FutureWarning: The default value of `n_init` will change from 10 to 'auto' in 1.4. Set the value of `n_init` explicitly to suppress the warning\n",
      "  warnings.warn(\n",
      "/opt/anaconda3/lib/python3.9/site-packages/sklearn/cluster/_kmeans.py:870: FutureWarning: The default value of `n_init` will change from 10 to 'auto' in 1.4. Set the value of `n_init` explicitly to suppress the warning\n",
      "  warnings.warn(\n"
     ]
    },
    {
     "data": {
      "image/png": "[encoded data removed]",
      "text/plain": [
       "<Figure size 640x480 with 1 Axes>"
      ]
     },
     "metadata": {},
     "output_type": "display_data"
    }
   ],
   "source": [
    "import matplotlib.pyplot as plt\n",
    "\n",
    "num_cluster = range(1, 10)\n",
    "kmeans_list = [KMeans(n_clusters=i) for i in num_cluster]\n",
    "kmeans_list\n",
    "scores = [kmeans_list[i].fit(X).score(X) for i in range(len(kmeans_list))]\n",
    "scores\n",
    "plt.plot(num_cluster, scores)\n",
    "plt.xlabel('Number of Clusters')\n",
    "plt.ylabel('Score')\n",
    "plt.title('Elbow Curve')\n",
    "plt.show()"
   ]
  },
  {
   "cell_type": "code",
   "execution_count": 22,
   "metadata": {
    "colab": {
     "base_uri": "https://localhost:8080/",
     "height": 196
    },
    "id": "L5KTWzbOgWYF",
    "outputId": "f1657b96-cdcc-4ff1-c1e9-37a88272f30a"
   },
   "outputs": [
    {
     "name": "stdout",
     "output_type": "stream",
     "text": [
      "                              11540  6945 \n",
      "income                          0.0    0.0\n",
      "age                            28.0   56.0\n",
      "education                       9.0   10.0\n",
      "sex                             1.0    0.0\n",
      "hours-per-week                 32.0   45.0\n",
      "workclass_Federal-gov           0.0    0.0\n",
      "workclass_Local-gov             0.0    0.0\n",
      "workclass_Private               1.0    1.0\n",
      "workclass_Self-emp-inc          0.0    0.0\n",
      "workclass_Self-emp-not-inc      0.0    0.0\n",
      "workclass_State-gov             0.0    0.0\n",
      "workclass_Without-pay           0.0    0.0\n",
      "marital-status_Married          0.0    1.0\n",
      "marital-status_NotMarried       1.0    0.0\n",
      "marital-status_Separated        0.0    0.0\n",
      "marital-status_Widowed          0.0    0.0\n",
      "occupation_Adm-clerical         0.0    0.0\n",
      "occupation_Armed-Forces         0.0    0.0\n",
      "occupation_Craft-repair         0.0    1.0\n",
      "occupation_Exec-managerial      0.0    0.0\n",
      "occupation_Farming-fishing      0.0    0.0\n",
      "occupation_Handlers-cleaners    0.0    0.0\n",
      "occupation_Machine-op-inspct    0.0    0.0\n",
      "occupation_Other-service        1.0    0.0\n",
      "occupation_Priv-house-serv      0.0    0.0\n",
      "occupation_Prof-specialty       0.0    0.0\n",
      "occupation_Protective-serv      0.0    0.0\n",
      "occupation_Sales                0.0    0.0\n",
      "occupation_Tech-support         0.0    0.0\n",
      "occupation_Transport-moving     0.0    0.0\n",
      "race_Amer-Indian-Eskimo         0.0    0.0\n",
      "race_Asian-Pac-Islander         0.0    0.0\n",
      "race_Black                      0.0    0.0\n",
      "race_Other                      0.0    0.0\n",
      "race_White                      1.0    1.0\n"
     ]
    }
   ],
   "source": [
    "from sklearn.metrics.pairwise import pairwise_distances_argmin\n",
    "\n",
    "kmeans_cluster_centers = kmeans.cluster_centers_\n",
    "closest = pairwise_distances_argmin(kmeans.cluster_centers_, X)\n",
    "\n",
    "selected_rows = dataset.iloc[closest, :]\n",
    "selected_rows_transposed = selected_rows.T\n",
    "\n",
    "pd.set_option('display.max_rows', None)\n",
    "pd.set_option('display.max_columns', None)\n",
    "pd.set_option('display.expand_frame_repr', False)\n",
    "\n",
    "# Display the transposed DataFrame\n",
    "print(selected_rows_transposed)"
   ]
  },
  {
   "cell_type": "markdown",
   "metadata": {
    "id": "9KmuTMNHabhZ"
   },
   "source": [
    "Accuracy of Clustering Model"
   ]
  },
  {
   "cell_type": "code",
   "execution_count": 23,
   "metadata": {
    "colab": {
     "base_uri": "https://localhost:8080/"
    },
    "id": "qOuBCsbragrz",
    "outputId": "157f2284-33eb-47c8-eeb2-bc6e5e92e53e"
   },
   "outputs": [
    {
     "name": "stdout",
     "output_type": "stream",
     "text": [
      "k means prediction accuracy: 0.28096785843264716\n"
     ]
    }
   ],
   "source": [
    "from sklearn.metrics import accuracy_score\n",
    "\n",
    "kmeans_labels = kmeans.labels_\n",
    "# or kmeans_lables = kmeans.predict(X)\n",
    "\n",
    "accuracy = accuracy_score(y_train, kmeans_labels)\n",
    "print(\"k means prediction accuracy:\", accuracy)"
   ]
  },
  {
   "cell_type": "code",
   "execution_count": 24,
   "metadata": {},
   "outputs": [
    {
     "name": "stdout",
     "output_type": "stream",
     "text": [
      "k means test accuracy: 0.6903435468895079\n"
     ]
    }
   ],
   "source": [
    "test_kmeans_lables = kmeans.predict(X_test)\n",
    "\n",
    "accuracy = accuracy_score(y_test, test_kmeans_lables)\n",
    "print(\"k means test accuracy:\", accuracy)"
   ]
  },
  {
   "cell_type": "code",
   "execution_count": null,
   "metadata": {},
   "outputs": [],
   "source": []
  }
 ],
 "metadata": {
  "colab": {
   "provenance": []
  },
  "kernelspec": {
   "display_name": "Python 3 (ipykernel)",
   "language": "python",
   "name": "python3"
  },
  "language_info": {
   "codemirror_mode": {
    "name": "ipython",
    "version": 3
   },
   "file_extension": ".py",
   "mimetype": "text/x-python",
   "name": "python",
   "nbconvert_exporter": "python",
   "pygments_lexer": "ipython3",
   "version": "3.9.17"
  }
 },
 "nbformat": 4,
 "nbformat_minor": 1
}
